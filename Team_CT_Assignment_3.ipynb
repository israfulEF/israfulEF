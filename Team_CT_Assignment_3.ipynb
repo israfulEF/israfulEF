{
  "cells": [
    {
      "cell_type": "markdown",
      "metadata": {
        "id": "view-in-github",
        "colab_type": "text"
      },
      "source": [
        "<a href=\"https://colab.research.google.com/github/israfulEF/israfulEF/blob/main/Team_CT_Assignment_3.ipynb\" target=\"_parent\"><img src=\"https://colab.research.google.com/assets/colab-badge.svg\" alt=\"Open In Colab\"/></a>"
      ]
    },
    {
      "cell_type": "markdown",
      "metadata": {
        "id": "wi9U3pvgyzED"
      },
      "source": [
        "\n",
        "#To apply Monte Carlo simulations combined with bootstrap methods to evaluate the quality of inference on 𝛽1 using serially correlated data, we can follow these steps:\n",
        "\n",
        "\n",
        "*   Simulate data using simulate_regression_with_ar1_errors with specified parameters.\n",
        "*   Calculate bootstrap standard errors.\n",
        "*   Construct a 95% confidence interval for  𝛽1 .\n",
        "*   Perform Monte Carlo simulations for  𝑇=100  and  𝑇=500 .\n",
        "*   Assess the empirical coverage of the confidence intervals.\n"
      ]
    },
    {
      "cell_type": "code",
      "execution_count": null,
      "metadata": {
        "colab": {
          "background_save": true,
          "base_uri": "https://localhost:8080/"
        },
        "id": "cP9lKw8jmbsF",
        "outputId": "227afc38-c37d-4f93-e9ca-5292fa712e17"
      },
      "outputs": [
        {
          "output_type": "stream",
          "name": "stdout",
          "text": [
            "95% Confidence Interval for Beta 1: (0.404641632415966, 0.6168188171258095)\n"
          ]
        }
      ],
      "source": [
        "import numpy as np\n",
        "from statsmodels.regression.linear_model import OLS\n",
        "from statsmodels.tools.tools import add_constant\n",
        "from scipy.stats import norm\n",
        "from joblib import Parallel, delayed\n",
        "\n",
        "def simulate_regression_with_ar1_errors(n, beta0, beta1, rho, sigma):\n",
        "    X = np.random.normal(size=n)\n",
        "    errors = np.zeros(n)\n",
        "    for t in range(1, n):\n",
        "        errors[t] = rho * errors[t-1] + np.random.normal(scale=sigma)\n",
        "    y = beta0 + beta1 * X + errors\n",
        "    return X, y\n",
        "\n",
        "def bootstrap_standard_errors(X, y, beta_hat, num_resamples=1000):\n",
        "    n = len(y)\n",
        "    num_coeffs = beta_hat.shape[0]\n",
        "    beta_boot_se = np.zeros(num_coeffs)\n",
        "\n",
        "    for i in range(num_resamples):\n",
        "        resample_indices = np.random.choice(n, size=n, replace=True)\n",
        "        X_resample = X[resample_indices]\n",
        "        y_resample = y[resample_indices]\n",
        "        model = OLS(y_resample, add_constant(X_resample)).fit()\n",
        "        beta_boot_se += (model.params - beta_hat) ** 2\n",
        "\n",
        "    beta_boot_se = np.sqrt(beta_boot_se / num_resamples)\n",
        "\n",
        "    return beta_boot_se\n",
        "\n",
        "# Parameters\n",
        "n = 1000\n",
        "beta0 = 1\n",
        "beta1 = 0.5\n",
        "rho = 0.8\n",
        "sigma = 1\n",
        "\n",
        "# Simulate data\n",
        "X, y = simulate_regression_with_ar1_errors(n, beta0, beta1, rho, sigma)\n",
        "\n",
        "# Estimate coefficients\n",
        "model = OLS(y, add_constant(X)).fit()\n",
        "beta_hat = model.params\n",
        "\n",
        "# Bootstrap standard errors\n",
        "beta_boot_se = bootstrap_standard_errors(X, y, beta_hat)\n",
        "\n",
        "# Calculate confidence intervals\n",
        "z_critical = norm.ppf(0.975)\n",
        "ci_lower = beta_hat[1] - z_critical * beta_boot_se[1]\n",
        "ci_upper = beta_hat[1] + z_critical * beta_boot_se[1]\n",
        "print(\"95% Confidence Interval for Beta 1:\", (ci_lower, ci_upper))\n",
        "\n",
        "def run_simulation(T, beta0, beta1, rho, sigma, z_critical):\n",
        "    X_sim, y_sim = simulate_regression_with_ar1_errors(T, beta0, beta1, rho, sigma)\n",
        "    model_sim = OLS(y_sim, add_constant(X_sim)).fit()\n",
        "    beta_hat_sim = model_sim.params\n",
        "    beta_boot_se_sim = bootstrap_standard_errors(X_sim, y_sim, beta_hat_sim)\n",
        "\n",
        "    ci_lower_sim = beta_hat_sim[1] - z_critical * beta_boot_se_sim[1]\n",
        "    ci_upper_sim = beta_hat_sim[1] + z_critical * beta_boot_se_sim[1]\n",
        "\n",
        "    return ci_lower_sim <= beta1 <= ci_upper_sim\n",
        "\n",
        "# Monte Carlo simulations\n",
        "T_values = [100, 500]\n",
        "num_runs = 1000\n",
        "\n",
        "for T in T_values:\n",
        "    results = Parallel(n_jobs=-1)(\n",
        "        delayed(run_simulation)(T, beta0, beta1, rho, sigma, z_critical) for _ in range(num_runs)\n",
        "    )\n",
        "    coverage = sum(results) / num_runs\n",
        "    print(f\"Empirical Coverage for T={T}: {coverage}\")"
      ]
    }
  ],
  "metadata": {
    "colab": {
      "provenance": [],
      "authorship_tag": "ABX9TyMqZgrFPIAIGetYJZsfP4Yr",
      "include_colab_link": true
    },
    "kernelspec": {
      "display_name": "Python 3",
      "name": "python3"
    },
    "language_info": {
      "name": "python"
    }
  },
  "nbformat": 4,
  "nbformat_minor": 0
}